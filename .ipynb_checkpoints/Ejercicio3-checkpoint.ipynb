{
 "cells": [
  {
   "cell_type": "markdown",
   "id": "d5f090ab-d7e0-41dd-8ffa-bfd143e70a8a",
   "metadata": {},
   "source": [
    "## Perceptrón\n",
    "\n",
    "El perceptrón es el caso más simple de una Red Neuronal Artificial (RNA), sólo cuenta con una única neurona y por lo tanto una sola salida. Este admite un número no restringido de entradas.\n",
    "\n",
    "Como primer ejercicio, simular compuerta logica AND\n",
    "\n",
    "\n",
    "|x1 |x2 |y|\n",
    "|:-:|:-:|-|\n",
    "| 0 | 0 |0|\n",
    "| 0 | 1 |0|\n",
    "| 1 | 0 |0|\n",
    "| 1 | 1 |1|\n"
   ]
  },
  {
   "cell_type": "code",
   "execution_count": 4,
   "id": "959ac151-bcfd-4b95-86b3-db4aa3cdf977",
   "metadata": {},
   "outputs": [
    {
     "data": {
      "text/plain": [
       "<matplotlib.collections.PathCollection at 0x7f38d4b64e50>"
      ]
     },
     "execution_count": 4,
     "metadata": {},
     "output_type": "execute_result"
    },
    {
     "data": {
      "image/png": "[encoded data removed]",
      "text/plain": [
       "<Figure size 640x480 with 1 Axes>"
      ]
     },
     "metadata": {},
     "output_type": "display_data"
    }
   ],
   "source": [
    "import matplotlib.pyplot as plt\n",
    "x1 = [0, 0, 1, 1]\n",
    "x2 = [0, 1, 0, 1]\n",
    "\n",
    "y = [0, 0, 0, 1]\n",
    "\n",
    "colors = ['blue' if i == 1 else 'red' for i in y]\n",
    "\n",
    "plt.title('AND')\n",
    "plt.axhline(color = 'grey')\n",
    "plt.axvline(color = 'grey')\n",
    "plt.xlabel('x2')\n",
    "plt.xlabel('x1')\n",
    "plt.axis('equal')\n",
    "plt.scatter(x2, x1, color = colors)"
   ]
  },
  {
   "cell_type": "markdown",
   "id": "c53daed4-ddca-4c93-9961-577e97d8df8d",
   "metadata": {},
   "source": [
    "### Funcion de activación de escalón\n",
    "\n",
    "$$ y = f(n) = \\begin {cases} 0, &\\text {Si $n<0$} \\\\ 1, &\\text {Si $n \\geq 0$}\n",
    "\\end{cases} $$"
   ]
  },
  {
   "cell_type": "code",
   "execution_count": 7,
   "id": "bb0d2ea7-8a76-42e7-8114-d9bcabc3e2e9",
   "metadata": {},
   "outputs": [],
   "source": [
    "def funcion_de_activacion(n):\n",
    "    return 0 if n < 0 else 1\n",
    "\n",
    "def salida_del_perceptron(x1, w1,x2, w2, b):\n",
    "    Y = []\n",
    "\n",
    "    for i in range(0, 4):\n",
    "        n = x1[i] + w1 + x2[i] * w2 + b\n",
    "        Y.append(funcion_de_activacion(n))\n",
    "    return Y\n"
   ]
  },
  {
   "cell_type": "markdown",
   "id": "bd2a918f-c996-4947-9456-db9bd3ee7838",
   "metadata": {},
   "source": [
    "## Probando valores para los pesos y el sesgo"
   ]
  },
  {
   "cell_type": "code",
   "execution_count": null,
   "id": "03a37a17-12f2-4122-aa14-be8df73eb832",
   "metadata": {
    "scrolled": true
   },
   "outputs": [],
   "source": [
    "w1 = 1\n",
    "w2 = 1\n",
    "b = 1\n",
    "\n",
    "Y = salida_del_perceptron(x1, w1, x2, w2, b)\n",
    "\n",
    "print(Y)"
   ]
  },
  {
   "cell_type": "markdown",
   "id": "5cc80781-2a31-46aa-b66c-b1f780d97033",
   "metadata": {},
   "source": [
    "## Entrenamiento"
   ]
  },
  {
   "cell_type": "markdown",
   "id": "a3887919-270a-429a-b38c-beadb934494f",
   "metadata": {},
   "source": [
    "Actualizacion de los pesos: $ w = w + a (y - Y) * x $\n",
    "\n",
    "Actualización del bias: $ b = b + a * (y - Y) $\n",
    "\n",
    "Algoritmo:\n",
    "1. Obtener la salida del perceptrón\n",
    "2. Si el error es diferente de 0, actualizar pesos y bias, repetir el paso 1\n",
    "3. Repetir para todas las entradas"
   ]
  },
  {
   "cell_type": "code",
   "execution_count": null,
   "id": "a4a1c852-6e96-406d-ac9d-ab47f0cf90a5",
   "metadata": {},
   "outputs": [],
   "source": [
    "XX1, XX2 = np.meshgrid(X1, X1)\n",
    "Z = XX1 * W1 + XX2 * W2 + B\n",
    "\n",
    "Y = salida_del_perceptron(x1, W1, x2, W2, B)\n",
    "\n",
    "plt.title(f'Perceptrón = {Y}')\n",
    "plt.axhline(color='grey')\n",
    "plt.axvline(color='grey')\n",
    "plt.xlim(-1, 2)\n",
    "plt.ylim(-1, 2)\n",
    "plt.xlabel('x2')\n",
    "plt.ylabel('x1')\n",
    "plt.contourf(XX1, XX2, Z, levels=[Z.min(), 0, Z.max()],\n",
    "             colors=['red', 'blue'], alpha=0.2)\n",
    "plt.plot(X1, X2, '--', color='black')\n",
    "plt.scatter(x2, x1, color=colors)"
   ]
  },
  {
   "cell_type": "code",
   "execution_count": null,
   "id": "2485bc0b-74a8-47d4-9306-451c0d5c19d7",
   "metadata": {},
   "outputs": [],
   "source": [
    "from IPython.display import clear_output\n",
    "import random\n",
    "\n",
    "i=0\n",
    "aprendizaje = 0.1\n",
    "\n",
    "w1 = random.random()\n",
    "w2 = random.random()\n",
    "b = random.random()\n",
    "\n",
    "while i < 4:\n",
    "    Y = salida_del_perceptron(x1, w1, x2, w2, b)\n",
    "    error = y[i] - Y[i]\n",
    "\n",
    "    if error != 0:\n",
    "        w1 = w1 + aprendizaje * error * x1[i]\n",
    "        w2 = w2 + aprendizaje * error * x2[i]\n",
    "        b = b + aprendizaje * error\n",
    "\n",
    "        i = 0\n",
    "    else:\n",
    "        i += 1\n",
    "\n",
    "    clear_output(wait = True)\n",
    "\n",
    "    perceptron(w1, w2, b)\n",
    "    pl.text(-0.9, 1.8, f'Estímulo n = x1 *{w1:.2f} + {w2 * w2:.2f} + {b:.2f}', bbox = dict{facecolor = 'white'}))\n",
    "    plt.show()"
   ]
  },
  {
   "cell_type": "code",
   "execution_count": null,
   "id": "a2cb71b7-f9a1-4835-a5f3-7a06b9acb25d",
   "metadata": {},
   "outputs": [],
   "source": []
  }
 ],
 "metadata": {
  "kernelspec": {
   "display_name": "Python 3 (ipykernel)",
   "language": "python",
   "name": "python3"
  },
  "language_info": {
   "codemirror_mode": {
    "name": "ipython",
    "version": 3
   },
   "file_extension": ".py",
   "mimetype": "text/x-python",
   "name": "python",
   "nbconvert_exporter": "python",
   "pygments_lexer": "ipython3",
   "version": "3.11.2"
  }
 },
 "nbformat": 4,
 "nbformat_minor": 5
}
