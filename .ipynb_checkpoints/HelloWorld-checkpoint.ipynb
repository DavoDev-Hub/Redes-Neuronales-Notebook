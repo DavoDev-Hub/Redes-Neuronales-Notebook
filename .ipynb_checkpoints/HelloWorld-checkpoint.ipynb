{
 "cells": [
  {
   "cell_type": "markdown",
   "id": "0e2c8c64-b48d-419e-a565-9dd44ea8ac08",
   "metadata": {},
   "source": [
    "# TITULO"
   ]
  },
  {
   "cell_type": "markdown",
   "id": "06af4b4d-e3fd-4481-b1f0-b913a7fb24f6",
   "metadata": {},
   "source": [
    "## SUBTITULO"
   ]
  },
  {
   "cell_type": "markdown",
   "id": "e1063a3e-429d-48a9-930b-700fa2c35abc",
   "metadata": {},
   "source": [
    "### parrafo"
   ]
  },
  {
   "cell_type": "code",
   "execution_count": 1,
   "id": "b75659c4-d46f-400b-bb1f-490e9335ef94",
   "metadata": {},
   "outputs": [
    {
     "name": "stdout",
     "output_type": "stream",
     "text": [
      "Hola mundo\n"
     ]
    }
   ],
   "source": [
    "print(\"Hola mundo\")"
   ]
  },
  {
   "cell_type": "code",
   "execution_count": 2,
   "id": "53a006c8-5757-4668-9ef9-1851a97bbca3",
   "metadata": {},
   "outputs": [
    {
     "name": "stdout",
     "output_type": "stream",
     "text": [
      "30\n"
     ]
    }
   ],
   "source": [
    "a = 10\n",
    "b = 20\n",
    "\n",
    "suma = a + b \n",
    "print(suma)"
   ]
  },
  {
   "cell_type": "code",
   "execution_count": 4,
   "id": "abb766d4-814c-4807-8338-a71061727627",
   "metadata": {},
   "outputs": [
    {
     "name": "stdout",
     "output_type": "stream",
     "text": [
      "200\n"
     ]
    }
   ],
   "source": [
    "multiplicacion = a * b\n",
    "print(multiplicacion)"
   ]
  },
  {
   "cell_type": "markdown",
   "id": "83a8b537-439a-4455-9fc9-9ea8db69fb41",
   "metadata": {},
   "source": [
    "Para importar librerias\n",
    "\n",
    "import libreria as lib\n",
    "import numpy as np\n",
    "import sublibreria from libreria"
   ]
  }
 ],
 "metadata": {
  "kernelspec": {
   "display_name": "Python 3 (ipykernel)",
   "language": "python",
   "name": "python3"
  },
  "language_info": {
   "codemirror_mode": {
    "name": "ipython",
    "version": 3
   },
   "file_extension": ".py",
   "mimetype": "text/x-python",
   "name": "python",
   "nbconvert_exporter": "python",
   "pygments_lexer": "ipython3",
   "version": "3.11.2"
  }
 },
 "nbformat": 4,
 "nbformat_minor": 5
}
