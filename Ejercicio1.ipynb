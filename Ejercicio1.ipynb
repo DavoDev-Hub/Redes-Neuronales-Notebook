{
 "cells": [
  {
   "cell_type": "code",
   "execution_count": 1,
   "id": "5d909e23",
   "metadata": {},
   "outputs": [],
   "source": [
    "x1 = [0, 0, 1, 1]\n",
    "x2 = [0, 1, 0, 1]\n",
    "\n",
    "y = [0, 0, 0, 1]\n",
    "\n",
    "def funcion_de_activacion(n):\n",
    "    '''y = 0 if n < 0 else 1\n",
    "\n",
    "    y = 0\n",
    "\n",
    "    if n < 0:\n",
    "        y = 0\n",
    "    else:\n",
    "        y = 1\n",
    "    \n",
    "    y = 0'''\n",
    "\n",
    "    if n >= 0:\n",
    "        y = 1\n",
    "    \n",
    "    return y\n"
   ]
  },
  {
   "cell_type": "code",
   "execution_count": 2,
   "id": "06f283b3",
   "metadata": {},
   "outputs": [],
   "source": [
    "w1 = 1\n",
    "w2 = 1\n",
    "b = 1\n",
    "\n",
    "n= x1[3] * w1 + x2[3] * w2 + b"
   ]
  },
  {
   "cell_type": "code",
   "execution_count": 3,
   "id": "f982fa4d",
   "metadata": {},
   "outputs": [
    {
     "name": "stdout",
     "output_type": "stream",
     "text": [
      "3\n"
     ]
    }
   ],
   "source": [
    "print(n)"
   ]
  },
  {
   "cell_type": "code",
   "execution_count": 4,
   "id": "6dac40fa",
   "metadata": {},
   "outputs": [
    {
     "name": "stdout",
     "output_type": "stream",
     "text": [
      "1\n"
     ]
    }
   ],
   "source": [
    "yP = funcion_de_activacion(n)\n",
    "print(yP)"
   ]
  }
 ],
 "metadata": {
  "kernelspec": {
   "display_name": ".venv (3.12.5)",
   "language": "python",
   "name": "python3"
  },
  "language_info": {
   "codemirror_mode": {
    "name": "ipython",
    "version": 3
   },
   "file_extension": ".py",
   "mimetype": "text/x-python",
   "name": "python",
   "nbconvert_exporter": "python",
   "pygments_lexer": "ipython3",
   "version": "3.12.5"
  }
 },
 "nbformat": 4,
 "nbformat_minor": 5
}
