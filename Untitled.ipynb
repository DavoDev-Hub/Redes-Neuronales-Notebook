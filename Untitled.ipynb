{
 "cells": [
  {
   "cell_type": "code",
   "execution_count": 1,
   "id": "fc4f9a0d-82b6-44ed-bc1f-8807fc0442ca",
   "metadata": {},
   "outputs": [],
   "source": [
    "x1 = [0, 0, 1, 1]\n",
    "x2 = [0, 1, 0, 1]\n",
    "\n",
    "y = [0, 0, 0, 1]"
   ]
  },
  {
   "cell_type": "code",
   "execution_count": 24,
   "id": "ccff435a-a9bd-49ed-a29e-c21c11d57804",
   "metadata": {},
   "outputs": [],
   "source": [
    "def funcion_de_activacion(n):\n",
    "    y = 0 if n > 0 else 1\n",
    "\n",
    "    y = 0\n",
    "\n",
    "    if n >= 0:\n",
    "        y = 1\n",
    "    return y"
   ]
  },
  {
   "cell_type": "code",
   "execution_count": 32,
   "id": "b9cb80eb-a902-404d-b271-bad52441a505",
   "metadata": {},
   "outputs": [],
   "source": [
    "w1 = 1\n",
    "w2 = 1\n",
    "b = -1\n",
    "\n",
    "\n",
    "n = x1[2] * w1 + x2[2] * w2 + b"
   ]
  },
  {
   "cell_type": "code",
   "execution_count": 33,
   "id": "1bcbac2a-d5c5-4312-af08-c538046876da",
   "metadata": {},
   "outputs": [
    {
     "name": "stdout",
     "output_type": "stream",
     "text": [
      "0\n"
     ]
    }
   ],
   "source": [
    "print(n)"
   ]
  },
  {
   "cell_type": "code",
   "execution_count": 34,
   "id": "ba43b04d-302b-4482-9803-1e22bc6e3d6d",
   "metadata": {},
   "outputs": [
    {
     "name": "stdout",
     "output_type": "stream",
     "text": [
      "1\n"
     ]
    }
   ],
   "source": [
    "yP = funcion_de_activacion(n)\n",
    "print(yP)"
   ]
  }
 ],
 "metadata": {
  "kernelspec": {
   "display_name": "Python 3 (ipykernel)",
   "language": "python",
   "name": "python3"
  },
  "language_info": {
   "codemirror_mode": {
    "name": "ipython",
    "version": 3
   },
   "file_extension": ".py",
   "mimetype": "text/x-python",
   "name": "python",
   "nbconvert_exporter": "python",
   "pygments_lexer": "ipython3",
   "version": "3.11.2"
  }
 },
 "nbformat": 4,
 "nbformat_minor": 5
}
